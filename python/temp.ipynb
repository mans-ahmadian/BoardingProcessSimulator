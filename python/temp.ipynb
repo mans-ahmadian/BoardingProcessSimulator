{
 "cells": [
  {
   "cell_type": "code",
   "execution_count": 6,
   "metadata": {},
   "outputs": [],
   "source": [
    "import os\n",
    "import cv2\n",
    "import pandas as pd\n",
    "import numpy as np "
   ]
  },
  {
   "cell_type": "code",
   "execution_count": 17,
   "metadata": {},
   "outputs": [],
   "source": [
    "class SceneWriter:\n",
    "    def __init__(self, outputDir=\"output\",\n",
    "                numberOfSeatRows=100,numberOfSeatColumns=3,\n",
    "                seatSize=20,seatColor=(255, 0, 0),seatPadding=3,\n",
    "                aisleSize=40,\n",
    "                personSize=15,personColor=(0.256,0)):\n",
    "        self.OutputDir=outputDir\n",
    "        self.NumberOfSeatRows = numberOfSeatRows\n",
    "        self.SeatSize=seatSize\n",
    "        self.SeatColor=seatColor\n",
    "        self.PersonSize=personSize\n",
    "        self.PersonColor=personColor\n",
    "        self.imageWidth=(seatSize+seatPadding) *numberOfSeatColumns + aisleSize+(seatSize+seatPadding) *numberOfSeatColumns\n",
    "        self.imageHeight=(seatSize+seatPadding) *2 *numberOfSeatRows;\n",
    "    \n",
    "    def AddFrame(self,frameNo,travelers):   \n",
    "        imageName=os.path.join(self.OutputDir,\"Frame__\"+str(frameNo)+\".jpg\")\n",
    "        img = np.zeros((self.imageWidth,self.imageHeight,3), dtype=np.uint8)\n",
    "        # Ending coordinate, here (220, 220)\n",
    "        # represents the bottom right corner of rectangle\n",
    "        start_point = (5, 5)\n",
    "        end_point = (220, 220)\n",
    "        # Line thickness of 2 px\n",
    "        thickness = 2\n",
    "        # Using cv2.rectangle() method\n",
    "        # Draw a rectangle with blue line borders of thickness of 2 px\n",
    "        img = cv2.rectangle(img, start_point, end_point, self.SeatColor, thickness)\n",
    "        cv2.imwrite(imageName,img)\n",
    "\n",
    "travelers=[]        \n",
    "sw=SceneWriter(\"ouput\")    \n",
    "sw.AddFrame(1,travelers)    \n"
   ]
  }
 ],
 "metadata": {
  "kernelspec": {
   "display_name": ".venv",
   "language": "python",
   "name": "python3"
  },
  "language_info": {
   "codemirror_mode": {
    "name": "ipython",
    "version": 3
   },
   "file_extension": ".py",
   "mimetype": "text/x-python",
   "name": "python",
   "nbconvert_exporter": "python",
   "pygments_lexer": "ipython3",
   "version": "3.11.1"
  },
  "orig_nbformat": 4,
  "vscode": {
   "interpreter": {
    "hash": "22b03923f62d9e50cc5b4ba2887e0857b0e1317e41612e734e8062524ae17cf4"
   }
  }
 },
 "nbformat": 4,
 "nbformat_minor": 2
}
